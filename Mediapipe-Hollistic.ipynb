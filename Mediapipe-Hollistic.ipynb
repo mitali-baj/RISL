{
 "cells": [
  {
   "cell_type": "code",
   "execution_count": 1,
   "metadata": {},
   "outputs": [
    {
     "name": "stdout",
     "output_type": "stream",
     "text": [
      "Requirement already satisfied: mediapipe in c:\\users\\prash\\anaconda3\\lib\\site-packages (0.8.6.2)\n",
      "Requirement already satisfied: opencv-python in c:\\users\\prash\\anaconda3\\lib\\site-packages (4.5.3.56)\n",
      "Requirement already satisfied: protobuf>=3.11.4 in c:\\users\\prash\\anaconda3\\lib\\site-packages (from mediapipe) (3.13.0)\n",
      "Requirement already satisfied: opencv-contrib-python in c:\\users\\prash\\anaconda3\\lib\\site-packages (from mediapipe) (4.5.3.56)\n",
      "Requirement already satisfied: six in c:\\users\\prash\\appdata\\roaming\\python\\python38\\site-packages (from mediapipe) (1.15.0)\n",
      "Requirement already satisfied: numpy in c:\\users\\prash\\anaconda3\\lib\\site-packages (from mediapipe) (1.18.5)\n",
      "Requirement already satisfied: absl-py in c:\\users\\prash\\anaconda3\\lib\\site-packages (from mediapipe) (0.13.0)\n",
      "Requirement already satisfied: wheel in c:\\users\\prash\\anaconda3\\lib\\site-packages (from mediapipe) (0.34.2)\n",
      "Requirement already satisfied: attrs>=19.1.0 in c:\\users\\prash\\anaconda3\\lib\\site-packages (from mediapipe) (19.3.0)\n",
      "Requirement already satisfied: matplotlib in c:\\users\\prash\\anaconda3\\lib\\site-packages (from mediapipe) (3.2.2)\n",
      "Requirement already satisfied: setuptools in c:\\users\\prash\\anaconda3\\lib\\site-packages (from protobuf>=3.11.4->mediapipe) (49.2.0.post20200714)\n",
      "Requirement already satisfied: python-dateutil>=2.1 in c:\\users\\prash\\anaconda3\\lib\\site-packages (from matplotlib->mediapipe) (2.8.1)\n",
      "Requirement already satisfied: pyparsing!=2.0.4,!=2.1.2,!=2.1.6,>=2.0.1 in c:\\users\\prash\\anaconda3\\lib\\site-packages (from matplotlib->mediapipe) (2.4.7)\n",
      "Requirement already satisfied: kiwisolver>=1.0.1 in c:\\users\\prash\\anaconda3\\lib\\site-packages (from matplotlib->mediapipe) (1.2.0)\n",
      "Requirement already satisfied: cycler>=0.10 in c:\\users\\prash\\anaconda3\\lib\\site-packages (from matplotlib->mediapipe) (0.10.0)\n"
     ]
    }
   ],
   "source": [
    "!pip install mediapipe opencv-python"
   ]
  },
  {
   "cell_type": "code",
   "execution_count": 1,
   "metadata": {},
   "outputs": [],
   "source": [
    "import mediapipe as mp\n",
    "import cv2"
   ]
  },
  {
   "cell_type": "code",
   "execution_count": 2,
   "metadata": {},
   "outputs": [],
   "source": [
    "mp_drawing = mp.solutions.drawing_utils\n",
    "mp_holistic = mp.solutions.holistic"
   ]
  },
  {
   "cell_type": "code",
   "execution_count": 3,
   "metadata": {},
   "outputs": [],
   "source": [
    "cap = cv2.VideoCapture(0)\n",
    "while cap.isOpened():\n",
    "    ret, frame = cap.read()\n",
    "    cv2.imshow('Raw Webcam Feed',frame)\n",
    "    \n",
    "    if cv2.waitKey(10) & 0xFF == ord('q'):\n",
    "        break\n",
    "\n",
    "cap.release()\n",
    "cv2.destroyAllWindows()"
   ]
  },
  {
   "cell_type": "code",
   "execution_count": 5,
   "metadata": {},
   "outputs": [],
   "source": [
    "cap.release()\n",
    "cv2.destroyAllWindows()"
   ]
  },
  {
   "cell_type": "code",
   "execution_count": 4,
   "metadata": {},
   "outputs": [],
   "source": [
    "cap = cv2.VideoCapture(0)\n",
    "#Initiate holistic model\n",
    "with mp_holistic.Holistic(min_detection_confidence=0.5, min_tracking_confidence=0.5) as holistic:\n",
    "    \n",
    "    while cap.isOpened():\n",
    "        ret, frame = cap.read()\n",
    "        \n",
    "        #Recolor Feed\n",
    "        image = cv2.cvtColor(frame, cv2.COLOR_BGR2RGB)\n",
    "        #Make Detections\n",
    "        results = holistic.process(image)\n",
    "        #print(results.face_landmarks)\n",
    "        \n",
    "        #face_landmarks, pose_landmarks, left_hand_landmarks, right_hand_landmarks\n",
    "        \n",
    "        #Recolor image back to BGR for rendering\n",
    "        image = cv2.cvtColor(image, cv2.COLOR_RGB2BGR)\n",
    "        \n",
    "        #Draw face landmarks\n",
    "        mp_drawing.draw_landmarks(image, results.face_landmarks, mp_holistic.FACE_CONNECTIONS)\n",
    "        \n",
    "        #Draw left hand landmarks\n",
    "        mp_drawing.draw_landmarks(image, results.left_hand_landmarks, mp_holistic.HAND_CONNECTIONS)\n",
    "\n",
    "        #Draw right hand landmarks\n",
    "        mp_drawing.draw_landmarks(image, results.right_hand_landmarks, mp_holistic.HAND_CONNECTIONS)\n",
    "        \n",
    "        #Draw pose landmarks\n",
    "        mp_drawing.draw_landmarks(image, results.pose_landmarks, mp_holistic.POSE_CONNECTIONS)\n",
    "        \n",
    "        cv2.imshow('Raw Webcam Feed',image)\n",
    "\n",
    "        if cv2.waitKey(10) & 0xFF == ord('q'):\n",
    "            break\n",
    "\n",
    "cap.release()\n",
    "cv2.destroyAllWindows()"
   ]
  },
  {
   "cell_type": "code",
   "execution_count": 4,
   "metadata": {},
   "outputs": [],
   "source": [
    "mp_drawing.DrawingSpec??"
   ]
  },
  {
   "cell_type": "code",
   "execution_count": 5,
   "metadata": {},
   "outputs": [],
   "source": [
    "mp_drawing.draw_landmarks??"
   ]
  },
  {
   "cell_type": "code",
   "execution_count": null,
   "metadata": {},
   "outputs": [],
   "source": [
    "mp_drawing.DrawingSpec(color=(0,0,255),thickness = 2, circle_radius = 2)"
   ]
  },
  {
   "cell_type": "code",
   "execution_count": 6,
   "metadata": {},
   "outputs": [],
   "source": [
    "cap = cv2.VideoCapture(0)\n",
    "#Initiate holistic model\n",
    "with mp_holistic.Holistic(min_detection_confidence=0.5, min_tracking_confidence=0.5) as holistic:\n",
    "    \n",
    "    while cap.isOpened():\n",
    "        ret, frame = cap.read()\n",
    "        \n",
    "        #Recolor Feed\n",
    "        image = cv2.cvtColor(frame, cv2.COLOR_BGR2RGB)\n",
    "        #Make Detections\n",
    "        results = holistic.process(image)\n",
    "        #print(results.face_landmarks)\n",
    "        \n",
    "        #face_landmarks, pose_landmarks, left_hand_landmarks, right_hand_landmarks\n",
    "        \n",
    "        #Recolor image back to BGR for rendering\n",
    "        image = cv2.cvtColor(image, cv2.COLOR_RGB2BGR)\n",
    "        \n",
    "        #Draw face landmarks\n",
    "        mp_drawing.draw_landmarks(image, results.face_landmarks, mp_holistic.FACE_CONNECTIONS,\n",
    "                                  mp_drawing.DrawingSpec(color=(80,110,10),thickness = 2, circle_radius = 2), \n",
    "                                  mp_drawing.DrawingSpec(color=(80,256,121),thickness = 2, circle_radius = 2))\n",
    "        \n",
    "        #Draw left hand landmarks\n",
    "        mp_drawing.draw_landmarks(image, results.left_hand_landmarks, mp_holistic.HAND_CONNECTIONS, \n",
    "                                  mp_drawing.DrawingSpec(color=(121,22,76),thickness = 2, circle_radius = 2), \n",
    "                                  mp_drawing.DrawingSpec(color=(121,44,250),thickness = 2, circle_radius = 2))\n",
    "\n",
    "        #Draw right hand landmarks\n",
    "        mp_drawing.draw_landmarks(image, results.right_hand_landmarks, mp_holistic.HAND_CONNECTIONS,\n",
    "                                  mp_drawing.DrawingSpec(color=(80,22,10),thickness = 2, circle_radius = 2), \n",
    "                                  mp_drawing.DrawingSpec(color=(80,44,121),thickness = 2, circle_radius = 2))\n",
    "        \n",
    "        #Draw pose landmarks\n",
    "        mp_drawing.draw_landmarks(image, results.pose_landmarks, mp_holistic.POSE_CONNECTIONS,\n",
    "                                  mp_drawing.DrawingSpec(color=(245,117,66),thickness = 2, circle_radius = 2), \n",
    "                                  mp_drawing.DrawingSpec(color=(245,66,230),thickness = 2, circle_radius = 2))\n",
    "      \n",
    "\n",
    "        \n",
    "        cv2.imshow('Raw Webcam Feed',image)\n",
    "\n",
    "        if cv2.waitKey(10) & 0xFF == ord('q'):\n",
    "            break\n",
    "\n",
    "cap.release()\n",
    "cv2.destroyAllWindows()"
   ]
  },
  {
   "cell_type": "code",
   "execution_count": null,
   "metadata": {},
   "outputs": [],
   "source": [
    "  for hand_landmark in results.hand_landmarks:\n",
    "            x = [landmark.x for landmark in hand_landmark.landmark]\n",
    "            y = [landmark.y for landmark in hand_landmark.landmark]\n",
    "            \n",
    "            center = np.array([np.mean(x)*image_width, np.mean(y)*image_hight]).astype('int32')\n",
    "            cv2.circle(image, tuple(center), 10, (255,0,0), 1)  #for checking the center \n",
    "            cv2.rectangle(image, (center[0]-200,center[1]-200), (center[0]+200,center[1]+200), (255,0,0), 1)"
   ]
  }
 ],
 "metadata": {
  "kernelspec": {
   "display_name": "Python 3",
   "language": "python",
   "name": "python3"
  },
  "language_info": {
   "codemirror_mode": {
    "name": "ipython",
    "version": 3
   },
   "file_extension": ".py",
   "mimetype": "text/x-python",
   "name": "python",
   "nbconvert_exporter": "python",
   "pygments_lexer": "ipython3",
   "version": "3.8.3"
  }
 },
 "nbformat": 4,
 "nbformat_minor": 4
}
