{
 "cells": [
  {
   "cell_type": "code",
   "execution_count": 1,
   "metadata": {},
   "outputs": [],
   "source": [
    "import mediapipe as mp\n",
    "import cv2"
   ]
  },
  {
   "cell_type": "code",
   "execution_count": 2,
   "metadata": {},
   "outputs": [],
   "source": [
    "mpHands = mp.solutions.hands\n",
    "mpDraw = mp.solutions.drawing_utils"
   ]
  },
  {
   "cell_type": "code",
   "execution_count": 3,
   "metadata": {},
   "outputs": [],
   "source": [
    "class HandDetector:\n",
    "    def __init__(self,max_num_hands=2,min_detection_confidence = 0.5, min_tracking_confidence=0.5):\n",
    "        self.hands = mpHands.Hands(max_num_hands = max_num_hands, min_detection_confidence = min_detection_confidence, min_tracking_confidence=min_tracking_confidence)\n",
    "    def findHandLandMarks(self,image, handNumber=0, draw=False): #image is on which hand landmarks would be detected. The handNumber is used if multiple hands are there in image, so this function would return landmarks only for the specified hand number. Boolean parameter draw decides if we want the mediapipe to draw those landmarks on our image.\n",
    "        originalImage = image\n",
    "        if(image is not None):\n",
    "            image = cv2.cvtColor(image, cv2.COLOR_BGR2RGB)\n",
    "        results = self.hands.process(image)\n",
    "        landMarkList = [] #empty list which will contain final result from this function.\n",
    "    \n",
    "        if results.multi_hand_landmarks:\n",
    "            hand = results.multi_hand_landmarks[handNumber] #results.multi_hand_landmarks returns landMarks for all the hands that were detected, so passing the handNumber to it gives you data for the correct hand.\n",
    "        \n",
    "            for id, landMark in enumerate(hand.landmark):#landMark holds x,y,z ratios of single landmark #hand.landmark gives 21 landmarks for the selected hand. we iterate 21 points where id holds the id for each of the landmark.\n",
    "                imgH, imgW, imgC = originalImage.shape  #height, width, channel for image\n",
    "                xPos, yPos = int(landMark.x * imgW), int(landMark.y * imgH)      #Mediapipe returns ration of the image dimensions as landmark information, so convert here to x and y coordinate of the pixel of the landmark.\n",
    "                landMarkList.append([id,xPos,yPos])  #findHandLandMarks() would return: oth index->id of landmark, 1st index-> x coordinate of landmark, 2nd index-> x coordinate of landmark\n",
    "\n",
    "            \n",
    "            if draw:\n",
    "                mpDraw.draw_landmarks(originalImage, hand, mpHands.HAND_CONNECTIONS)\n",
    "        \n",
    "        return landMarkList\n",
    "            "
   ]
  },
  {
   "cell_type": "code",
   "execution_count": 8,
   "metadata": {},
   "outputs": [],
   "source": [
    "def findHandLandMarks(self,image, handNumber=0, draw=False): #image is on which hand landmarks would be detected. The handNumber is used if multiple hands are there in image, so this function would return landmarks only for the specified hand number. Boolean parameter draw decides if we want the mediapipe to draw those landmarks on our image.\n",
    "    originalImage = image\n",
    "    if(image is not None):\n",
    "        image = cv2.cvtColor(image, cv2.COLOR_BGR2RGB)\n",
    "    results = self.hands.process(image)\n",
    "    landMarkList = [] #empty list which will contain final result from this function.\n",
    "    \n",
    "    if results.multi_hand_landmarks:\n",
    "        hand = results.multi_hand_landmarks[handNumber] #results.multi_hand_landmarks returns landMarks for all the hands that were detected, so passing the handNumber to it gives you data for the correct hand.\n",
    "        \n",
    "        for id, landMark in enumerate(hand.landmark):#landMark holds x,y,z ratios of single landmark #hand.landmark gives 21 landmarks for the selected hand. we iterate 21 points where id holds the id for each of the landmark.\n",
    "            imgH, imgW, imgC = originalImage.shape  #height, width, channel for image\n",
    "            xPos, yPos = int(landMark.x * imgW), int(landMark.y * imgH)      #Mediapipe returns ration of the image dimensions as landmark information, so convert here to x and y coordinate of the pixel of the landmark.\n",
    "            landMarkList.append([id,xPos,yPos])  #findHandLandMarks() would return: oth index->id of landmark, 1st index-> x coordinate of landmark, 2nd index-> x coordinate of landmark\n",
    "            \n",
    "            \n",
    "        if draw:\n",
    "            mpDraw.draw_landmarks(originalImage, hand, mpHands.HAND_CONNECTIONS)\n",
    "        \n",
    "        return landMarkList\n",
    "            "
   ]
  },
  {
   "cell_type": "markdown",
   "metadata": {},
   "source": [
    "# Volume Controller"
   ]
  },
  {
   "cell_type": "code",
   "execution_count": 17,
   "metadata": {},
   "outputs": [
    {
     "name": "stdout",
     "output_type": "stream",
     "text": [
      "Collecting pycaw\n",
      "  Downloading pycaw-20181226.tar.gz (5.7 kB)\n",
      "Requirement already satisfied: comtypes in c:\\users\\prash\\anaconda3\\lib\\site-packages (from pycaw) (1.1.7)\n",
      "Collecting enum34\n",
      "  Downloading enum34-1.1.10-py3-none-any.whl (11 kB)\n",
      "Requirement already satisfied: psutil in c:\\users\\prash\\anaconda3\\lib\\site-packages (from pycaw) (5.7.0)\n",
      "Requirement already satisfied: future in c:\\users\\prash\\anaconda3\\lib\\site-packages (from pycaw) (0.18.2)\n",
      "Building wheels for collected packages: pycaw\n",
      "  Building wheel for pycaw (setup.py): started\n",
      "  Building wheel for pycaw (setup.py): finished with status 'done'\n",
      "  Created wheel for pycaw: filename=pycaw-20181226-py3-none-any.whl size=6497 sha256=f65d5531d76ba306bdcff3855e118bf298953e0304531515f34f4eec4061e212\n",
      "  Stored in directory: c:\\users\\prash\\appdata\\local\\pip\\cache\\wheels\\dc\\11\\93\\a8f4f331966f5a23ea9150999db050821e91a0a3273069df49\n",
      "Successfully built pycaw\n",
      "Installing collected packages: enum34, pycaw\n",
      "Successfully installed enum34-1.1.10 pycaw-20181226\n"
     ]
    }
   ],
   "source": [
    "!pip install pycaw"
   ]
  },
  {
   "cell_type": "code",
   "execution_count": 4,
   "metadata": {},
   "outputs": [],
   "source": [
    "#from MediapipeVolumeController import HandDetector  #from handDetector import HandDetector #for importing custom class from other file\n",
    "#import cv2\n",
    "import math\n",
    "import numpy as np\n",
    "#python package pycaw to control system volume\n",
    "from ctypes import cast, POINTER\n",
    "from comtypes import CLSCTX_ALL\n",
    "from pycaw.pycaw import AudioUtilities, IAudioEndpointVolume"
   ]
  },
  {
   "cell_type": "code",
   "execution_count": 5,
   "metadata": {},
   "outputs": [],
   "source": [
    "#creating instance of our custom HandDetector class\n",
    "handDetector = HandDetector(min_detection_confidence = 0.7)"
   ]
  },
  {
   "cell_type": "code",
   "execution_count": 6,
   "metadata": {},
   "outputs": [],
   "source": [
    "webcamFeed = cv2.VideoCapture(0)"
   ]
  },
  {
   "cell_type": "code",
   "execution_count": 7,
   "metadata": {},
   "outputs": [
    {
     "name": "stdout",
     "output_type": "stream",
     "text": [
      "(-65.25, 0.0, 0.03125)\n"
     ]
    }
   ],
   "source": [
    "#Volume related initializations\n",
    "devices = AudioUtilities.GetSpeakers()\n",
    "interface = devices.Activate(IAudioEndpointVolume._iid_,CLSCTX_ALL,None)\n",
    "volume = cast(interface, POINTER(IAudioEndpointVolume))\n",
    "print(volume.GetVolumeRange()) #min volume -62.25 and max volume is 0.0"
   ]
  },
  {
   "cell_type": "code",
   "execution_count": 8,
   "metadata": {},
   "outputs": [
    {
     "name": "stdout",
     "output_type": "stream",
     "text": [
      "88.64536084872123\n",
      "11.6619037896906\n",
      "11.6619037896906\n",
      "8.06225774829855\n",
      "8.06225774829855\n",
      "45.541190146942796\n",
      "45.221676218380054\n",
      "45.221676218380054\n",
      "54.74486277268397\n",
      "47.539457296018846\n",
      "27.730849247724095\n",
      "27.730849247724095\n",
      "10.19803902718557\n",
      "13.453624047073712\n",
      "30.0\n",
      "30.0\n",
      "32.202484376209235\n",
      "27.80287754891569\n",
      "27.80287754891569\n",
      "35.0\n",
      "34.43835071544513\n",
      "24.758836806279895\n",
      "24.758836806279895\n",
      "28.30194339616981\n",
      "22.825424421026653\n",
      "35.84689665786985\n",
      "27.202941017470888\n",
      "27.202941017470888\n",
      "26.400757564888174\n",
      "22.203603311174515\n",
      "28.600699292150182\n",
      "28.600699292150182\n",
      "27.459060435491963\n",
      "31.622776601683793\n",
      "31.622776601683793\n",
      "28.30194339616981\n",
      "30.528675044947498\n",
      "30.528675044947498\n",
      "35.22782990761707\n",
      "4.242640687119286\n",
      "30.870698080866262\n",
      "30.870698080866262\n",
      "37.73592452822641\n",
      "24.041630560342618\n",
      "27.459060435491963\n",
      "25.553864678361276\n",
      "27.018512172212596\n",
      "27.018512172212596\n",
      "28.844410203711917\n",
      "27.202941017470888\n",
      "23.60084744241189\n",
      "29.20616373302047\n",
      "42.80186911806539\n",
      "29.068883707497267\n",
      "17.720045146669353\n",
      "17.720045146669353\n",
      "28.160255680657446\n",
      "28.178005607210743\n",
      "29.546573405388315\n",
      "42.05948168962618\n",
      "42.05948168962618\n",
      "38.48376280978771\n",
      "46.238512086787566\n",
      "47.41307836451879\n",
      "47.41307836451879\n",
      "39.35733730830886\n",
      "37.443290453698104\n",
      "37.443290453698104\n",
      "44.1021541423999\n",
      "45.541190146942796\n",
      "45.541190146942796\n",
      "50.44799302251776\n",
      "51.92301994298868\n",
      "59.20304046246274\n",
      "59.20304046246274\n",
      "59.48108943185221\n",
      "58.52349955359812\n",
      "56.92099788303083\n",
      "56.92099788303083\n",
      "56.61271941887264\n",
      "65.52098900352466\n",
      "60.63827174318212\n",
      "65.30696746902278\n",
      "65.30696746902278\n",
      "61.0\n",
      "64.76109943476871\n",
      "67.08203932499369\n",
      "74.73285756613353\n",
      "79.07591289387685\n",
      "86.57944328765345\n",
      "99.0050503762308\n",
      "103.1746092796091\n",
      "110.01818031580054\n",
      "106.01886624558857\n",
      "93.00537618869136\n",
      "75.05997601918082\n",
      "69.85699678629192\n",
      "72.1110255092798\n",
      "81.74350127074322\n",
      "108.29589096544707\n",
      "96.88137075826292\n",
      "34.48187929913333\n",
      "24.515301344262525\n",
      "17.46424919657298\n",
      "15.0\n",
      "32.01562118716424\n",
      "71.17583859709697\n",
      "85.14693182963201\n",
      "24.041630560342615\n"
     ]
    },
    {
     "ename": "KeyboardInterrupt",
     "evalue": "",
     "output_type": "error",
     "traceback": [
      "\u001b[1;31m---------------------------------------------------------------------------\u001b[0m",
      "\u001b[1;31mKeyboardInterrupt\u001b[0m                         Traceback (most recent call last)",
      "\u001b[1;32m<ipython-input-8-5df83ba9e851>\u001b[0m in \u001b[0;36m<module>\u001b[1;34m\u001b[0m\n\u001b[0;32m     20\u001b[0m         \u001b[0mcv2\u001b[0m\u001b[1;33m.\u001b[0m\u001b[0mline\u001b[0m\u001b[1;33m(\u001b[0m\u001b[0mimage\u001b[0m\u001b[1;33m,\u001b[0m\u001b[1;33m(\u001b[0m\u001b[0mx1\u001b[0m\u001b[1;33m,\u001b[0m\u001b[0my1\u001b[0m\u001b[1;33m)\u001b[0m\u001b[1;33m,\u001b[0m\u001b[1;33m(\u001b[0m\u001b[0mx2\u001b[0m\u001b[1;33m,\u001b[0m\u001b[0my2\u001b[0m\u001b[1;33m)\u001b[0m\u001b[1;33m,\u001b[0m\u001b[1;33m(\u001b[0m\u001b[1;36m305\u001b[0m\u001b[1;33m,\u001b[0m\u001b[1;36m0\u001b[0m\u001b[1;33m,\u001b[0m\u001b[1;36m305\u001b[0m\u001b[1;33m)\u001b[0m\u001b[1;33m,\u001b[0m\u001b[1;36m3\u001b[0m\u001b[1;33m)\u001b[0m\u001b[1;33m\u001b[0m\u001b[1;33m\u001b[0m\u001b[0m\n\u001b[0;32m     21\u001b[0m \u001b[1;33m\u001b[0m\u001b[0m\n\u001b[1;32m---> 22\u001b[1;33m     \u001b[0mcv2\u001b[0m\u001b[1;33m.\u001b[0m\u001b[0mimshow\u001b[0m\u001b[1;33m(\u001b[0m\u001b[1;34m\"Volume\"\u001b[0m\u001b[1;33m,\u001b[0m\u001b[0mimage\u001b[0m\u001b[1;33m)\u001b[0m\u001b[1;33m\u001b[0m\u001b[1;33m\u001b[0m\u001b[0m\n\u001b[0m\u001b[0;32m     23\u001b[0m     \u001b[0mcv2\u001b[0m\u001b[1;33m.\u001b[0m\u001b[0mwaitKey\u001b[0m\u001b[1;33m(\u001b[0m\u001b[1;36m1\u001b[0m\u001b[1;33m)\u001b[0m\u001b[1;33m\u001b[0m\u001b[1;33m\u001b[0m\u001b[0m\n",
      "\u001b[1;31mKeyboardInterrupt\u001b[0m: "
     ]
    }
   ],
   "source": [
    "while True:\n",
    "    status, image = webcamFeed.read()\n",
    "    handLandmarks = HandDetector()\n",
    "    handLandmarks = handLandmarks.findHandLandMarks(image=image,draw=True)\n",
    "    \n",
    "    if(len(handLandmarks)!= 0):\n",
    "        #for volume control we need 4th and 8th landmark for thumb and firstfinger.\n",
    "        x1,y1 = handLandmarks[4][1], handLandmarks[4][2]\n",
    "        x2,y2 = handLandmarks[8][1], handLandmarks[8][2]\n",
    "        length = math.hypot(x2-x1,y2-y1)\n",
    "        print(length)\n",
    "        \n",
    "        #Hand range length- 50 to 250\n",
    "        \n",
    "        volumeValue = np.interp(length, [50,300],[-62.25,0.01]) #converting length to proportionate to volume range\n",
    "        volume.SetMasterVolumeLevel(volumeValue,None)\n",
    "        \n",
    "        cv2.circle(image,(x1,y1),15,(305,0,305),cv2.FILLED)\n",
    "        cv2.circle(image,(x2,y2),15,(305,0,305),cv2.FILLED)\n",
    "        cv2.line(image,(x1,y1),(x2,y2),(305,0,305),3)\n",
    "        \n",
    "    cv2.imshow(\"Volume\",image)\n",
    "    cv2.waitKey(1)"
   ]
  },
  {
   "cell_type": "code",
   "execution_count": null,
   "metadata": {},
   "outputs": [],
   "source": [
    "webcamFeed.release()\n",
    "#webcamFeed.destroyAllWindows()"
   ]
  },
  {
   "cell_type": "code",
   "execution_count": null,
   "metadata": {},
   "outputs": [],
   "source": []
  },
  {
   "cell_type": "code",
   "execution_count": null,
   "metadata": {},
   "outputs": [],
   "source": []
  },
  {
   "cell_type": "code",
   "execution_count": null,
   "metadata": {},
   "outputs": [],
   "source": []
  }
 ],
 "metadata": {
  "kernelspec": {
   "display_name": "Python 3",
   "language": "python",
   "name": "python3"
  },
  "language_info": {
   "codemirror_mode": {
    "name": "ipython",
    "version": 3
   },
   "file_extension": ".py",
   "mimetype": "text/x-python",
   "name": "python",
   "nbconvert_exporter": "python",
   "pygments_lexer": "ipython3",
   "version": "3.8.3"
  }
 },
 "nbformat": 4,
 "nbformat_minor": 4
}
